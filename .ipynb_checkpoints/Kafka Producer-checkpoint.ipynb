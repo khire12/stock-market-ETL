{
 "cells": [
  {
   "cell_type": "code",
   "execution_count": 1,
   "id": "e9f3fe4d",
   "metadata": {},
   "outputs": [
    {
     "name": "stdout",
     "output_type": "stream",
     "text": [
      "Collecting kafka-python\n",
      "  Downloading kafka_python-2.0.2-py2.py3-none-any.whl (246 kB)\n",
      "\u001b[2K     \u001b[90m━━━━━━━━━━━━━━━━━━━━━━━━━━━━━━━━━━━━━━━\u001b[0m \u001b[32m246.5/246.5 kB\u001b[0m \u001b[31m7.6 MB/s\u001b[0m eta \u001b[36m0:00:00\u001b[0m\n",
      "\u001b[?25hInstalling collected packages: kafka-python\n",
      "Successfully installed kafka-python-2.0.2\n",
      "Note: you may need to restart the kernel to use updated packages.\n"
     ]
    }
   ],
   "source": [
    "pip install kafka-python"
   ]
  },
  {
   "cell_type": "code",
   "execution_count": 1,
   "id": "09f47f8b",
   "metadata": {},
   "outputs": [],
   "source": [
    "import pandas as pd\n",
    "from kafka import KafkaProducer\n",
    "from kafka.admin import KafkaAdminClient, NewTopic\n",
    "from time import sleep\n",
    "from json import dumps\n",
    "import json"
   ]
  },
  {
   "cell_type": "code",
   "execution_count": 2,
   "id": "74592a4e",
   "metadata": {},
   "outputs": [],
   "source": [
    "import yfinance as yf\n",
    "import pandas as pd\n",
    "from datetime import date,timedelta"
   ]
  },
  {
   "cell_type": "code",
   "execution_count": 3,
   "id": "f58132a8",
   "metadata": {},
   "outputs": [],
   "source": [
    "admin_client = KafkaAdminClient(\n",
    "    bootstrap_servers=\"<IP address>\", \n",
    "    client_id='client_1'\n",
    ")"
   ]
  },
  {
   "cell_type": "code",
   "execution_count": 21,
   "id": "40c76618",
   "metadata": {},
   "outputs": [
    {
     "data": {
      "text/plain": [
       "CreateTopicsResponse_v3(throttle_time_ms=0, topic_errors=[(topic='stock_market_analysis', error_code=0, error_message=None)])"
      ]
     },
     "execution_count": 21,
     "metadata": {},
     "output_type": "execute_result"
    }
   ],
   "source": [
    "topic = NewTopic(name=\"stock_market_analysis\", num_partitions=1, replication_factor=1)\n",
    "admin_client.create_topics(new_topics=[topic], validate_only=False)"
   ]
  },
  {
   "cell_type": "code",
   "execution_count": 9,
   "id": "b80796b8",
   "metadata": {},
   "outputs": [],
   "source": [
    "producer = KafkaProducer(\n",
    "                bootstrap_servers=['<IP address>'],\n",
    "                value_serializer=lambda x: \n",
    "                dumps(x).encode('utf-8')\n",
    ")"
   ]
  },
  {
   "cell_type": "code",
   "execution_count": 5,
   "id": "3e78387c",
   "metadata": {},
   "outputs": [],
   "source": [
    "# tickers\n",
    "indices = ['NFLX','MSFT','AAPL','GOOGL','SNOW','TSLA','AMZN','META']"
   ]
  },
  {
   "cell_type": "code",
   "execution_count": 37,
   "id": "c8cb0b59",
   "metadata": {},
   "outputs": [],
   "source": [
    "def get_daily_stock_data(indices):\n",
    "    yesterday =  str(date.today() + timedelta(days = -1))\n",
    "    today =  str(date.today())\n",
    "    stock_data = pd.DataFrame()\n",
    "    for index in indices:\n",
    "        data = yf.download(tickers = index, start = yesterday, end = today)\n",
    "        data = data.assign(stock_index = index)\n",
    "        data = data.assign(date = data.index)\n",
    "        stock_data = pd.concat([stock_data, data])\n",
    "    return stock_data.to_json(orient = 'records'),stock_data"
   ]
  },
  {
   "cell_type": "code",
   "execution_count": 54,
   "id": "12565968",
   "metadata": {},
   "outputs": [
    {
     "name": "stdout",
     "output_type": "stream",
     "text": [
      "[*********************100%***********************]  1 of 1 completed\n",
      "[*********************100%***********************]  1 of 1 completed\n",
      "[*********************100%***********************]  1 of 1 completed\n",
      "[*********************100%***********************]  1 of 1 completed\n",
      "[*********************100%***********************]  1 of 1 completed\n",
      "[*********************100%***********************]  1 of 1 completed\n",
      "[*********************100%***********************]  1 of 1 completed\n",
      "[*********************100%***********************]  1 of 1 completed\n"
     ]
    }
   ],
   "source": [
    "stock_data, st = get_daily_stock_data(indices)"
   ]
  },
  {
   "cell_type": "code",
   "execution_count": 49,
   "id": "9916286d",
   "metadata": {},
   "outputs": [
    {
     "data": {
      "text/plain": [
       "Index(['Open', 'High', 'Low', 'Close', 'Adj Close', 'Volume', 'stock_index',\n",
       "       'date'],\n",
       "      dtype='object')"
      ]
     },
     "execution_count": 49,
     "metadata": {},
     "output_type": "execute_result"
    }
   ],
   "source": [
    "st.columns"
   ]
  },
  {
   "cell_type": "code",
   "execution_count": 55,
   "id": "cd5b8b42",
   "metadata": {},
   "outputs": [
    {
     "data": {
      "text/plain": [
       "<kafka.producer.future.FutureRecordMetadata at 0x7f9561f68520>"
      ]
     },
     "execution_count": 55,
     "metadata": {},
     "output_type": "execute_result"
    }
   ],
   "source": [
    "producer.send('stock_market_analysis', value = stock_data)"
   ]
  },
  {
   "cell_type": "markdown",
   "id": "a2be478c",
   "metadata": {},
   "source": [
    "#  Load historical Data from Jan 2021 to Dec 2022"
   ]
  },
  {
   "cell_type": "code",
   "execution_count": 50,
   "id": "ea4c0efc",
   "metadata": {},
   "outputs": [
    {
     "name": "stdout",
     "output_type": "stream",
     "text": [
      "[*********************100%***********************]  1 of 1 completed\n",
      "[*********************100%***********************]  1 of 1 completed\n",
      "[*********************100%***********************]  1 of 1 completed\n",
      "[*********************100%***********************]  1 of 1 completed\n",
      "[*********************100%***********************]  1 of 1 completed\n",
      "[*********************100%***********************]  1 of 1 completed\n",
      "[*********************100%***********************]  1 of 1 completed\n",
      "[*********************100%***********************]  1 of 1 completed\n"
     ]
    }
   ],
   "source": [
    "stock_data = pd.DataFrame()\n",
    "for index in indices:\n",
    "    data = yf.download(tickers = index, start = '2021-01-01' , end = '2022-12-30')\n",
    "    data = data.assign(stock_index = index)\n",
    "    data = data.assign(date = data.index)\n",
    "    stock_data = pd.concat([stock_data, data])"
   ]
  },
  {
   "cell_type": "code",
   "execution_count": 51,
   "id": "408b53f3",
   "metadata": {},
   "outputs": [
    {
     "data": {
      "text/html": [
       "<div>\n",
       "<style scoped>\n",
       "    .dataframe tbody tr th:only-of-type {\n",
       "        vertical-align: middle;\n",
       "    }\n",
       "\n",
       "    .dataframe tbody tr th {\n",
       "        vertical-align: top;\n",
       "    }\n",
       "\n",
       "    .dataframe thead th {\n",
       "        text-align: right;\n",
       "    }\n",
       "</style>\n",
       "<table border=\"1\" class=\"dataframe\">\n",
       "  <thead>\n",
       "    <tr style=\"text-align: right;\">\n",
       "      <th></th>\n",
       "      <th>Open</th>\n",
       "      <th>High</th>\n",
       "      <th>Low</th>\n",
       "      <th>Close</th>\n",
       "      <th>Adj Close</th>\n",
       "      <th>Volume</th>\n",
       "      <th>stock_index</th>\n",
       "      <th>date</th>\n",
       "    </tr>\n",
       "    <tr>\n",
       "      <th>Date</th>\n",
       "      <th></th>\n",
       "      <th></th>\n",
       "      <th></th>\n",
       "      <th></th>\n",
       "      <th></th>\n",
       "      <th></th>\n",
       "      <th></th>\n",
       "      <th></th>\n",
       "    </tr>\n",
       "  </thead>\n",
       "  <tbody>\n",
       "    <tr>\n",
       "      <th>2021-01-04</th>\n",
       "      <td>539.000000</td>\n",
       "      <td>540.799988</td>\n",
       "      <td>515.090027</td>\n",
       "      <td>522.859985</td>\n",
       "      <td>522.859985</td>\n",
       "      <td>4444400</td>\n",
       "      <td>NFLX</td>\n",
       "      <td>2021-01-04</td>\n",
       "    </tr>\n",
       "    <tr>\n",
       "      <th>2021-01-05</th>\n",
       "      <td>521.549988</td>\n",
       "      <td>526.780029</td>\n",
       "      <td>515.890015</td>\n",
       "      <td>520.799988</td>\n",
       "      <td>520.799988</td>\n",
       "      <td>3133900</td>\n",
       "      <td>NFLX</td>\n",
       "      <td>2021-01-05</td>\n",
       "    </tr>\n",
       "    <tr>\n",
       "      <th>2021-01-06</th>\n",
       "      <td>511.970001</td>\n",
       "      <td>513.099976</td>\n",
       "      <td>499.500000</td>\n",
       "      <td>500.489990</td>\n",
       "      <td>500.489990</td>\n",
       "      <td>5346200</td>\n",
       "      <td>NFLX</td>\n",
       "      <td>2021-01-06</td>\n",
       "    </tr>\n",
       "    <tr>\n",
       "      <th>2021-01-07</th>\n",
       "      <td>508.279999</td>\n",
       "      <td>516.440002</td>\n",
       "      <td>506.420013</td>\n",
       "      <td>508.890015</td>\n",
       "      <td>508.890015</td>\n",
       "      <td>3686400</td>\n",
       "      <td>NFLX</td>\n",
       "      <td>2021-01-07</td>\n",
       "    </tr>\n",
       "    <tr>\n",
       "      <th>2021-01-08</th>\n",
       "      <td>511.309998</td>\n",
       "      <td>513.239990</td>\n",
       "      <td>504.510010</td>\n",
       "      <td>510.399994</td>\n",
       "      <td>510.399994</td>\n",
       "      <td>2973900</td>\n",
       "      <td>NFLX</td>\n",
       "      <td>2021-01-08</td>\n",
       "    </tr>\n",
       "    <tr>\n",
       "      <th>...</th>\n",
       "      <td>...</td>\n",
       "      <td>...</td>\n",
       "      <td>...</td>\n",
       "      <td>...</td>\n",
       "      <td>...</td>\n",
       "      <td>...</td>\n",
       "      <td>...</td>\n",
       "      <td>...</td>\n",
       "    </tr>\n",
       "    <tr>\n",
       "      <th>2022-12-22</th>\n",
       "      <td>117.199997</td>\n",
       "      <td>118.620003</td>\n",
       "      <td>114.379997</td>\n",
       "      <td>117.120003</td>\n",
       "      <td>117.120003</td>\n",
       "      <td>23618100</td>\n",
       "      <td>META</td>\n",
       "      <td>2022-12-22</td>\n",
       "    </tr>\n",
       "    <tr>\n",
       "      <th>2022-12-23</th>\n",
       "      <td>116.029999</td>\n",
       "      <td>118.180000</td>\n",
       "      <td>115.540001</td>\n",
       "      <td>118.040001</td>\n",
       "      <td>118.040001</td>\n",
       "      <td>17796600</td>\n",
       "      <td>META</td>\n",
       "      <td>2022-12-23</td>\n",
       "    </tr>\n",
       "    <tr>\n",
       "      <th>2022-12-27</th>\n",
       "      <td>117.930000</td>\n",
       "      <td>118.599998</td>\n",
       "      <td>116.050003</td>\n",
       "      <td>116.879997</td>\n",
       "      <td>116.879997</td>\n",
       "      <td>21392300</td>\n",
       "      <td>META</td>\n",
       "      <td>2022-12-27</td>\n",
       "    </tr>\n",
       "    <tr>\n",
       "      <th>2022-12-28</th>\n",
       "      <td>116.250000</td>\n",
       "      <td>118.150002</td>\n",
       "      <td>115.510002</td>\n",
       "      <td>115.620003</td>\n",
       "      <td>115.620003</td>\n",
       "      <td>19612500</td>\n",
       "      <td>META</td>\n",
       "      <td>2022-12-28</td>\n",
       "    </tr>\n",
       "    <tr>\n",
       "      <th>2022-12-29</th>\n",
       "      <td>116.400002</td>\n",
       "      <td>121.029999</td>\n",
       "      <td>115.769997</td>\n",
       "      <td>120.260002</td>\n",
       "      <td>120.260002</td>\n",
       "      <td>22366200</td>\n",
       "      <td>META</td>\n",
       "      <td>2022-12-29</td>\n",
       "    </tr>\n",
       "  </tbody>\n",
       "</table>\n",
       "<p>4016 rows × 8 columns</p>\n",
       "</div>"
      ],
      "text/plain": [
       "                  Open        High         Low       Close   Adj Close  \\\n",
       "Date                                                                     \n",
       "2021-01-04  539.000000  540.799988  515.090027  522.859985  522.859985   \n",
       "2021-01-05  521.549988  526.780029  515.890015  520.799988  520.799988   \n",
       "2021-01-06  511.970001  513.099976  499.500000  500.489990  500.489990   \n",
       "2021-01-07  508.279999  516.440002  506.420013  508.890015  508.890015   \n",
       "2021-01-08  511.309998  513.239990  504.510010  510.399994  510.399994   \n",
       "...                ...         ...         ...         ...         ...   \n",
       "2022-12-22  117.199997  118.620003  114.379997  117.120003  117.120003   \n",
       "2022-12-23  116.029999  118.180000  115.540001  118.040001  118.040001   \n",
       "2022-12-27  117.930000  118.599998  116.050003  116.879997  116.879997   \n",
       "2022-12-28  116.250000  118.150002  115.510002  115.620003  115.620003   \n",
       "2022-12-29  116.400002  121.029999  115.769997  120.260002  120.260002   \n",
       "\n",
       "              Volume stock_index       date  \n",
       "Date                                         \n",
       "2021-01-04   4444400        NFLX 2021-01-04  \n",
       "2021-01-05   3133900        NFLX 2021-01-05  \n",
       "2021-01-06   5346200        NFLX 2021-01-06  \n",
       "2021-01-07   3686400        NFLX 2021-01-07  \n",
       "2021-01-08   2973900        NFLX 2021-01-08  \n",
       "...              ...         ...        ...  \n",
       "2022-12-22  23618100        META 2022-12-22  \n",
       "2022-12-23  17796600        META 2022-12-23  \n",
       "2022-12-27  21392300        META 2022-12-27  \n",
       "2022-12-28  19612500        META 2022-12-28  \n",
       "2022-12-29  22366200        META 2022-12-29  \n",
       "\n",
       "[4016 rows x 8 columns]"
      ]
     },
     "execution_count": 51,
     "metadata": {},
     "output_type": "execute_result"
    }
   ],
   "source": [
    "stock_data"
   ]
  },
  {
   "cell_type": "code",
   "execution_count": 52,
   "id": "934b854e",
   "metadata": {},
   "outputs": [
    {
     "data": {
      "text/plain": [
       "<kafka.producer.future.FutureRecordMetadata at 0x7f95405b2a60>"
      ]
     },
     "execution_count": 52,
     "metadata": {},
     "output_type": "execute_result"
    }
   ],
   "source": [
    "producer.send('stock_market_analysis', value = stock_data.to_json(orient = 'records'))"
   ]
  },
  {
   "cell_type": "code",
   "execution_count": null,
   "id": "bcc75401",
   "metadata": {},
   "outputs": [],
   "source": []
  }
 ],
 "metadata": {
  "kernelspec": {
   "display_name": "Python 3 (ipykernel)",
   "language": "python",
   "name": "python3"
  },
  "language_info": {
   "codemirror_mode": {
    "name": "ipython",
    "version": 3
   },
   "file_extension": ".py",
   "mimetype": "text/x-python",
   "name": "python",
   "nbconvert_exporter": "python",
   "pygments_lexer": "ipython3",
   "version": "3.9.13"
  }
 },
 "nbformat": 4,
 "nbformat_minor": 5
}
