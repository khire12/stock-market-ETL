{
 "cells": [
  {
   "cell_type": "code",
   "execution_count": null,
   "id": "ed48bc50",
   "metadata": {},
   "outputs": [],
   "source": [
    "from kafka import KafkaConsumer\n",
    "from time import sleep\n",
    "from json import dumps,loads\n",
    "import json\n",
    "from s3fs import S3FileSystem\n",
    "from datetime import date\n",
    "import pandas as pd"
   ]
  },
  {
   "cell_type": "code",
   "execution_count": null,
   "id": "5d83b725",
   "metadata": {},
   "outputs": [],
   "source": [
    "consumer = KafkaConsumer(\n",
    "    'stock_market_analysis',\n",
    "     bootstrap_servers=['54.166.223.82:9092'],\n",
    "     value_deserializer=lambda x: loads(x.decode('utf-8'))\n",
    ")"
   ]
  },
  {
   "cell_type": "code",
   "execution_count": null,
   "id": "eddade4f",
   "metadata": {},
   "outputs": [],
   "source": [
    "s3 = S3FileSystem()"
   ]
  },
  {
   "cell_type": "code",
   "execution_count": null,
   "id": "d89e5584",
   "metadata": {},
   "outputs": [],
   "source": [
    "for count, message in enumerate(consumer):\n",
    "    today =  str(date.today())\n",
    "    df = pd.read_json(message.value)\n",
    "    path = f\"s3://stock-market-project-us-east-1/yahoo/stock_market_{today}_1.csv\"\n",
    "    df.to_csv(path)\n",
    "    print(path + \" uploaded\")"
   ]
  },
  {
   "cell_type": "code",
   "execution_count": null,
   "id": "2541e732",
   "metadata": {},
   "outputs": [],
   "source": [
    "for count, message in enumerate(consumer):\n",
    "    df = pd.read_json(message.value)\n",
    "    print(df)\n",
    "    path = f\"s3://stock-market-project-us-east-1/yahoo/stock_market_30-3.csv\"\n",
    "    df.to_csv(path)\n",
    "    print(path + \" uploaded\")"
   ]
  },
  {
   "cell_type": "code",
   "execution_count": null,
   "id": "f9330153",
   "metadata": {},
   "outputs": [],
   "source": []
  }
 ],
 "metadata": {
  "kernelspec": {
   "display_name": "Python 3 (ipykernel)",
   "language": "python",
   "name": "python3"
  },
  "language_info": {
   "codemirror_mode": {
    "name": "ipython",
    "version": 3
   },
   "file_extension": ".py",
   "mimetype": "text/x-python",
   "name": "python",
   "nbconvert_exporter": "python",
   "pygments_lexer": "ipython3",
   "version": "3.9.13"
  }
 },
 "nbformat": 4,
 "nbformat_minor": 5
}
